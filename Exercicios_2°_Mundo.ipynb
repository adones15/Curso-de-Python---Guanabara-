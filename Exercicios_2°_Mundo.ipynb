{
  "nbformat": 4,
  "nbformat_minor": 0,
  "metadata": {
    "colab": {
      "name": "Exercicios 2° Mundo",
      "provenance": [],
      "collapsed_sections": [],
      "authorship_tag": "ABX9TyNzvoxerKjxPldSW/e5uwYs",
      "include_colab_link": true
    },
    "kernelspec": {
      "name": "python3",
      "display_name": "Python 3"
    },
    "language_info": {
      "name": "python"
    }
  },
  "cells": [
    {
      "cell_type": "markdown",
      "metadata": {
        "id": "view-in-github",
        "colab_type": "text"
      },
      "source": [
        "<a href=\"https://colab.research.google.com/github/adones15/Curso-de-Python---Guanabara-/blob/main/Exercicios_2%C2%B0_Mundo.ipynb\" target=\"_parent\"><img src=\"https://colab.research.google.com/assets/colab-badge.svg\" alt=\"Open In Colab\"/></a>"
      ]
    },
    {
      "cell_type": "markdown",
      "source": [
        "Condições aninhadas: IF / ELIF / ELSE\n"
      ],
      "metadata": {
        "id": "ynvaZHzDxJZL"
      }
    },
    {
      "cell_type": "markdown",
      "source": [
        "36 - Escreva um programa para aprovar o empréstimo bancário para a compra de uma casa. Pergunte o valor da casa, o salário do comprador e em quantos anos ele vai pagar. A prestação mensal não pode exceder 30% do salário ou então o empréstimo será negado."
      ],
      "metadata": {
        "id": "AOBKaP0U2Dzt"
      }
    },
    {
      "cell_type": "code",
      "execution_count": null,
      "metadata": {
        "colab": {
          "base_uri": "https://localhost:8080/"
        },
        "id": "mMdEmoRXu4Wz",
        "outputId": "236659c5-9386-4cbd-c42e-1fbb11f9f975"
      },
      "outputs": [
        {
          "output_type": "stream",
          "name": "stdout",
          "text": [
            "Digite o valor da casa: R$500000\n",
            "Digite o seu salário: R$3000\n",
            "Digite em quantos anos prettende pagar: 30\n",
            "Infelizmente o emprestimo foi negado, o valor da prestação ultrapassa 30% da sua renda mensal\n"
          ]
        }
      ],
      "source": [
        "valor = float(input(\"Digite o valor da casa: R$\"))\n",
        "salario = float(input(\"Digite o seu salário: R$\"))\n",
        "periodo = int(input(\"Digite em quantos anos prettende pagar: \"))\n",
        "prestacao = valor / (periodo*12)\n",
        "if prestacao > salario * 0.3:\n",
        "  print(\"Infelizmente o emprestimo foi negado, o valor da prestação ultrapassa 30% da sua renda mensal\")\n",
        "else:\n",
        "  print(\"Parabéns! seu empréstimo foi aprovado\")"
      ]
    },
    {
      "cell_type": "markdown",
      "source": [
        "37 - Escreva um programa em Python que leia um número inteiro qualquer e peça para o usuário escolher qual será a base de conversão: 1 para binário, 2 para octal e 3 para hexadecimal."
      ],
      "metadata": {
        "id": "CQUqbTpw2IMM"
      }
    },
    {
      "cell_type": "code",
      "source": [
        "num = int(input(\"Digite um número: \"))\n",
        "print(\"-\"*30)\n",
        "print(\"Base de conversão\")\n",
        "print(\"1 -> Binário\")\n",
        "print(\"2 -> Octal\")\n",
        "print(\"3 -> Hexadecimal\")\n",
        "print(\"-\"*30)\n",
        "conversao = int(input(\"Escolha qual será a base de conversão:( 1 / 2 / 3): \"))\n",
        "binario = 1\n",
        "octal = 2\n",
        "hexedecimal = 3\n",
        "\n",
        "if conversao == 1:\n",
        "  num1 = bin(num)\n",
        "  print(\"O número {} convertido para binário fica {}\".format(num, num1[2:]))\n",
        "\n",
        "elif conversao ==2:\n",
        "  num2 = oct(num)\n",
        "  print(\"O número {} convertido em octal fica {}\".format(num, num2[2:]))\n",
        "\n",
        "elif conversao ==3:\n",
        "  num3 = hex(num)\n",
        "  print(\"O número {} convertido em hexadecimal fica {}\".format(num, num3[2:]))\n",
        "\n",
        "else:\n",
        "  print(\"Base de conversão incorreta, tente novamente!\")"
      ],
      "metadata": {
        "colab": {
          "base_uri": "https://localhost:8080/"
        },
        "id": "sMuy2rEi2PEx",
        "outputId": "f277d715-a24e-4007-8333-0b2063ec5603"
      },
      "execution_count": null,
      "outputs": [
        {
          "output_type": "stream",
          "name": "stdout",
          "text": [
            "Digite um número: 834\n",
            "------------------------------\n",
            "Base de conversão\n",
            "1 -> Binário\n",
            "2 -> Octal\n",
            "3 -> Hexadecimal\n",
            "------------------------------\n",
            "Escolha qual será a base de conversão:( 1 / 2 / 3): 3\n",
            "O número 834 convertido em hexadecimal fica 342\n"
          ]
        }
      ]
    },
    {
      "cell_type": "markdown",
      "source": [
        "38 - Escreva um programa que leia dois números inteiros e compare-os. mostrando na tela uma mensagem:\n",
        "\n",
        "– O primeiro valor é maior\n",
        "\n",
        "– O segundo valor é maior\n",
        "\n",
        "– Não existe valor maior, os dois são iguais"
      ],
      "metadata": {
        "id": "bWS6IPJw2Pgk"
      }
    },
    {
      "cell_type": "code",
      "source": [
        "num1 = int(input(\"Digite o primeiro número inteiro: \"))\n",
        "num2 = int(input(\"Digite o segundo número inteiro: \"))\n",
        "\n",
        "if num1 > num2:\n",
        "  print(\"O primeiro valor é maior!\")\n",
        "elif num2 > num1:\n",
        "  print(\"O segundo valor é maior!\")\n",
        "else:\n",
        "  print(\"Não existe valor maior, os dois são iguais!\")"
      ],
      "metadata": {
        "colab": {
          "base_uri": "https://localhost:8080/"
        },
        "id": "h_Ib9aIA2QgU",
        "outputId": "da820f3a-7cf2-4484-c0ed-699fc94e3208"
      },
      "execution_count": null,
      "outputs": [
        {
          "output_type": "stream",
          "name": "stdout",
          "text": [
            "Digite o primeiro número inteiro: 20\n",
            "Digite o segundo número inteiro: 10\n",
            "O primeiro valor é maior!\n"
          ]
        }
      ]
    },
    {
      "cell_type": "markdown",
      "source": [
        "39 - Faça um programa que leia o ano de nascimento de um jovem e informe, de acordo com a sua idade, se ele ainda vai se alistar ao serviço militar, se é a hora exata de se alistar ou se já passou do tempo do alistamento. Seu programa também deverá mostrar o tempo que falta ou que passou do prazo."
      ],
      "metadata": {
        "id": "erQuruok2RCa"
      }
    },
    {
      "cell_type": "code",
      "source": [
        "from datetime import date\n",
        "ano_n = int(input(\"Digite o ano de nascimento: \"))\n",
        "ano_p = date.today().year\n",
        "idade = ano_p - ano_n\n",
        "idade_alist = 18\n",
        "\n",
        "print(\"-\"*20)\n",
        "\n",
        "if idade < idade_alist:\n",
        "  print(\"Ainda vai se alistar, faltam {} ano(os) para o alistamento que será em {}.\".format(idade_alist - idade, ano_p + (idade_alist - idade)))\n",
        "elif idade == idade_alist:\n",
        "  print(\"Você está na idade exata para o alistamento militar.\")\n",
        "elif idade > idade_alist:\n",
        "  print(\"Já passou do tempo de se alistar, você excedeu {} ano(os) do prazo, seu alistamento deveria ter sido em {}\".format(idade - idade_alist, ano_p - (idade - idade_alist)))"
      ],
      "metadata": {
        "colab": {
          "base_uri": "https://localhost:8080/"
        },
        "id": "Bq5K0CMp2SfA",
        "outputId": "d12de27e-45db-4318-f559-fdc5ae25c282"
      },
      "execution_count": null,
      "outputs": [
        {
          "output_type": "stream",
          "name": "stdout",
          "text": [
            "Digite o ano de nascimento: 1995\n",
            "--------------------\n",
            "Já passou do tempo de se alistar, você excedeu 9 ano(os) do prazo, seu alistamento deveria ter sido em 2013\n"
          ]
        }
      ]
    },
    {
      "cell_type": "markdown",
      "source": [
        "40 - Crie um programa que leia duas notas de um aluno e calcule sua média, mostrando uma mensagem no final, de acordo com a média atingida:\n",
        "\n",
        "– Média abaixo de 5.0: REPROVADO\n",
        "\n",
        "– Média entre 5.0 e 6.9: RECUPERAÇÃO\n",
        "\n",
        "– Média 7.0 ou superior: APROVADO"
      ],
      "metadata": {
        "id": "zonXW2xw2Sz6"
      }
    },
    {
      "cell_type": "code",
      "source": [
        "nota1 = float(input(\"Nota 1: \"))\n",
        "nota2 = float(input(\"Nota 2: \"))\n",
        "media = (nota1 + nota2) / 2\n",
        "print(\"*\"*30)\n",
        "print(\"A média é {}\".format(media))\n",
        "print(\"*\"*30)\n",
        "if media < 5.0:\n",
        "  print(\"REPROVADO\")\n",
        "\n",
        "elif media > 5.0 and media <= 6.9:\n",
        "  print(\"RECUPERAÇÃO\")\n",
        "else:\n",
        "  print(\"APROVADO\")"
      ],
      "metadata": {
        "colab": {
          "base_uri": "https://localhost:8080/"
        },
        "id": "ooLi5SfC2T1M",
        "outputId": "1c3da5a0-f354-4ef3-d748-7b3666d15415"
      },
      "execution_count": null,
      "outputs": [
        {
          "output_type": "stream",
          "name": "stdout",
          "text": [
            "Nota 1: 8\n",
            "Nota 2: 7\n",
            "******************************\n",
            "A média é 7.5\n",
            "******************************\n",
            "APROVADO\n"
          ]
        }
      ]
    },
    {
      "cell_type": "markdown",
      "source": [
        "41 - A Confederação Nacional de Natação precisa de um programa que leia o ano de nascimento de um atleta e mostre sua categoria, de acordo com a idade:\n",
        "\n",
        "– Até 9 anos: MIRIM\n",
        "\n",
        "– Até 14 anos: INFANTIL\n",
        "\n",
        "– Até 19 anos: JÚNIOR\n",
        "\n",
        "– Até 25 anos: SÊNIOR\n",
        "\n",
        "– Acima de 25 anos: MASTER"
      ],
      "metadata": {
        "id": "zee0m0wN2Uy4"
      }
    },
    {
      "cell_type": "code",
      "source": [
        "from datetime import date\n",
        "ano_n = int(input(\"Digite o ano de nascimento: \"))\n",
        "ano_p = date.today().year\n",
        "idade = ano_p - ano_n\n",
        "classificacao = \"\"\n",
        "print(\"*\"*30)\n",
        "\n",
        "if idade <= 9:\n",
        "  classificacao = \"MIRIM\"\n",
        "\n",
        "elif idade > 9 and idade <= 14:\n",
        "  classificacao = \"INFANTIL\"\n",
        "\n",
        "elif idade > 14 and idade <= 19:\n",
        "  classificacao = \"JÚNIOR\"\n",
        "\n",
        "elif idade > 19 and idade <= 25:\n",
        "  classificacao = \"SÊNIOR\"\n",
        "else:\n",
        "  classificacao = \"MASTER\"\n",
        "\n",
        "print(\"A idade do atleta é {} anos e a sua classificação é {}\".format(idade, classificacao))"
      ],
      "metadata": {
        "colab": {
          "base_uri": "https://localhost:8080/"
        },
        "id": "MDhOePtT2V25",
        "outputId": "d992b6e5-8acf-43f3-880e-72f80dad28f2"
      },
      "execution_count": null,
      "outputs": [
        {
          "output_type": "stream",
          "name": "stdout",
          "text": [
            "Digite o ano de nascimento: 1995\n",
            "******************************\n",
            "A idade do atleta é 27 anos e a sua classificação é MASTER\n"
          ]
        }
      ]
    },
    {
      "cell_type": "markdown",
      "source": [
        "42 - Refaça o DESAFIO 35 dos triângulos, acrescentando o recurso de mostrar que tipo de triângulo será formado:\n",
        "\n",
        "– EQUILÁTERO: todos os lados iguais\n",
        "\n",
        "– ISÓSCELES: dois lados iguais, um diferente\n",
        "\n",
        "– ESCALENO: todos os lados diferentes\n",
        "\n"
      ],
      "metadata": {
        "id": "6Bh9StT72WJf"
      }
    },
    {
      "cell_type": "code",
      "source": [
        "reta1 = float(input(\"Primeira reta: \"))\n",
        "reta2 = float(input(\"Segunda reta: \"))\n",
        "reta3 = float(input(\"Terceira reta: \"))\n",
        "print(\"-\"*20)\n",
        "\n",
        "if reta1 < reta2 + reta3 and reta2< reta1 + reta3 and reta3 < reta1 + reta2:\n",
        "  print(\"Com essas retas você consegue formar um triângulo \", end=\"\")\n",
        "  if reta1 == reta2 == reta3:\n",
        "    print(\"Equilátero\")\n",
        "  elif reta1 != reta2 != reta3 != reta1:\n",
        "    print(\"Escaleno\")\n",
        "  else:\n",
        "    print(\"Isósceles\")\n",
        "\n",
        "else:\n",
        "  print(\"Infelizmente essas retas não formam um triângulo\")"
      ],
      "metadata": {
        "colab": {
          "base_uri": "https://localhost:8080/"
        },
        "id": "aSAXbsUP2W9G",
        "outputId": "3d10579d-ee66-43b1-ae95-d87bb22c8fda"
      },
      "execution_count": null,
      "outputs": [
        {
          "output_type": "stream",
          "name": "stdout",
          "text": [
            "Primeira reta: 4\n",
            "Segunda reta: 5\n",
            "Terceira reta: 6\n",
            "--------------------\n",
            "Com essas retas você consegue formar um triângulo Escaleno\n"
          ]
        }
      ]
    },
    {
      "cell_type": "markdown",
      "source": [
        "43 - Desenvolva uma lógica que leia o peso e a altura de uma pessoa, calcule seu Índice de Massa Corporal (IMC) e mostre seu status, de acordo com a tabela abaixo:\n",
        "\n",
        "– IMC abaixo de 18,5: Abaixo do Peso\n",
        "\n",
        "– Entre 18,5 e 25: Peso Ideal\n",
        "\n",
        "– 25 até 30: Sobrepeso\n",
        "\n",
        "– 30 até 40: Obesidade\n",
        "\n",
        "– Acima de 40: Obesidade Mórbida\n",
        "\n"
      ],
      "metadata": {
        "id": "11YyKaeM2Xfe"
      }
    },
    {
      "cell_type": "code",
      "source": [
        "peso = float(input(\"Digite seu peso: \"))\n",
        "altura = float(input(\"Digite sua altura: \"))\n",
        "imc = peso / altura ** 2\n",
        "classificacao = \"\"\n",
        "print(\"*\"*30)\n",
        "\n",
        "if imc < 18.5:\n",
        "  classificacao = \"Abaixo do Peso\"\n",
        "elif imc >= 18.5 and imc < 25:\n",
        "  classificacao = \"Peso Ideal\"\n",
        "elif imc >= 25 and imc < 30:\n",
        "  classificacao = \"Sobrepeso\"\n",
        "elif imc >= 30 and imc < 40:\n",
        "  classificacao = \"Obesidade\"\n",
        "elif imc > 40:\n",
        "  classificacao = \"Obesidade Mórbida\"\n",
        "\n",
        "print(\"Seu IMC é de {:.2f} e a sua classificação é {}\".format(imc, classificacao))"
      ],
      "metadata": {
        "colab": {
          "base_uri": "https://localhost:8080/"
        },
        "id": "lQ4JdbkL2YZ4",
        "outputId": "f6eab66d-d77c-4056-9cd4-aefd2391b1d6"
      },
      "execution_count": null,
      "outputs": [
        {
          "output_type": "stream",
          "name": "stdout",
          "text": [
            "Digite seu peso: 88\n",
            "Digite sua altura: 1.75\n",
            "******************************\n",
            "Seu IMC é de 28.73 e a sua classificação é Sobrepeso\n"
          ]
        }
      ]
    },
    {
      "cell_type": "markdown",
      "source": [
        "44 - Elabore um programa que calcule o valor a ser pago por um produto, considerando o seu preço normal e condição de pagamento:\n",
        "\n",
        "– à vista dinheiro/cheque: 10% de desconto\n",
        "\n",
        "– à vista no cartão: 5% de desconto\n",
        "\n",
        "– em até 2x no cartão: preço formal \n",
        "\n",
        "– 3x ou mais no cartão: 20% de juros"
      ],
      "metadata": {
        "id": "m1xaJTsH2Za9"
      }
    },
    {
      "cell_type": "code",
      "source": [
        "valor = float(input(\"Digite o valor do produto: \"))\n",
        "print(\"*\"*30)\n",
        "print(\"1 -> à vista dinheiro/cheque: 10% de desconto\")\n",
        "print(\"2 -> à vista no cartão: 5% de desconto\")\n",
        "print(\"3 -> em até 2x no cartão: preço formal\")\n",
        "print(\"4 -> 3x ou mais no cartão: 20% de juros\")\n",
        "print(\"*\"*30)\n",
        "condicao = int(input(\"Digite o valor correspondente a condição escolhida (1/2/3/4): \"))\n",
        "\n",
        "if condicao == 1:\n",
        "  print(\"O produto custa R${:2f} e com o desconto de 10% pagando a vista no dinheiro ou cheque fica R${:.2f}\".format(valor, valor - (valor*0.10)))\n",
        "elif condicao == 2:\n",
        "  print(\"O produto custa R${:.2f} e com o desconto de 5% pagando a vista no cartão o valor fica R${:.2f}\".format(valor, valor - (valor*0.05)))\n",
        "elif condicao == 3:\n",
        "  print(\"O pruduto custa R${:.2f} e pagando em até 2x no cartão o valor final será o mesmo\".format(valor)) \n",
        "elif condicao == 4:\n",
        "  print(\"O produto custa R${:.2f} e pagando em 3x ou mais no cartão écobrado 20% de juros e o valor final será R${:.2f}\".format(valor, valor + (valor *0.2)))\n",
        "else:\n",
        "  print(\"Condição errada, tente novamente!!!\") "
      ],
      "metadata": {
        "colab": {
          "base_uri": "https://localhost:8080/"
        },
        "id": "NSEsiF3t2fEe",
        "outputId": "3da41ad3-52a6-4a0e-b27c-d7a8b349fdbf"
      },
      "execution_count": null,
      "outputs": [
        {
          "output_type": "stream",
          "name": "stdout",
          "text": [
            "Digite o valor do produto: 500\n",
            "******************************\n",
            "1 -> à vista dinheiro/cheque: 10% de desconto\n",
            "2 -> à vista no cartão: 5% de desconto\n",
            "3 -> em até 2x no cartão: preço formal\n",
            "4 -> 3x ou mais no cartão: 20% de juros\n",
            "******************************\n",
            "Digite o valor correspondente a condição escolhida (1/2/3/4): 2\n",
            "O produto custa R$500.00 e com o desconto de 5% pagando a vista no cartão o valor fica R$475.00\n"
          ]
        }
      ]
    },
    {
      "cell_type": "markdown",
      "source": [
        "45 - Crie um programa que faça o computador jogar Jokenpô com você."
      ],
      "metadata": {
        "id": "HPA6d9a02faL"
      }
    },
    {
      "cell_type": "code",
      "source": [
        "import random\n",
        "from time import sleep\n",
        "print(\"+\"*20)\n",
        "print(\"1 -> Papel\")\n",
        "print(\"2 -> Tesoura\")\n",
        "print(\"3 -> Pedra\")\n",
        "print(\"+\"*20)\n",
        "\n",
        "escolha = int(input(\"Digite sua escolha conforme o quadro acima: \"))\n",
        "escolha_pc = random.choice([1,2,3])\n",
        "print(\"JO\")\n",
        "sleep(1)\n",
        "print(\"KEN\")\n",
        "sleep(1)\n",
        "print(\"PO!!!\")\n",
        "sleep(1)\n",
        "\n",
        "print(\"O PC escolheu {}\".format(escolha_pc))\n",
        "\n",
        "if escolha == 1 and escolha_pc == 1:\n",
        "  print(\"Empate, ambos escolheram Papel, tente novamente!\")\n",
        "elif escolha == 1 and escolha_pc == 2:\n",
        "  print(\"Você escolheu Papel e o PC Tesoura, você perdeu, tente novamente :(\")\n",
        "elif escolha == 1 and escolha_pc == 3:\n",
        "  print(\"Você escolheu Papel e o PC Pedra, Parabéns, você venceu ;)!!!\")\n",
        "elif escolha == 2 and escolha_pc == 1:\n",
        "  print(\"Você escolheu Tesoura e o PC Papel, Parabéns, você venceu ;)!!!\")\n",
        "elif escolha == 2 and escolha_pc == 2:\n",
        "  print(\"Empate, ambos escolheram Tesoura, tente novamente!\")\n",
        "elif escolha == 2 and escolha_pc == 3:\n",
        "  print(\"Você escolheu Tesoura e o PC Pedra, você perdeu, tente novamente :(\")\n",
        "elif escolha == 3 and escolha_pc == 1:\n",
        "  print(\"Você escolheu Pedra e o PC Papel, você perdeu, tente novamente :(\")\n",
        "elif escolha == 3 and escolha_pc == 2:\n",
        "  print(\"Você escolheu Pedra e o PC Tesoura, Parabéns, você venceu ;)!!!\")\n",
        "elif escolha == 3 and escolha_pc == 3:\n",
        "  print(\"Empate, ambos escolheram Pedra, tente novamente!\")\n"
      ],
      "metadata": {
        "colab": {
          "base_uri": "https://localhost:8080/"
        },
        "id": "ewj5-CeS2gDH",
        "outputId": "bb2fa69d-cd3e-43f2-9b8f-ace0e642a680"
      },
      "execution_count": null,
      "outputs": [
        {
          "output_type": "stream",
          "name": "stdout",
          "text": [
            "++++++++++++++++++++\n",
            "1 -> Papel\n",
            "2 -> Tesoura\n",
            "3 -> Pedra\n",
            "++++++++++++++++++++\n",
            "Digite sua escolha conforme o quadro acima: 2\n",
            "JO\n",
            "KEN\n",
            "PO!!!\n",
            "O PC escolheu 3\n",
            "Você escolheu Tesoura e o PC Pedra, você perdeu, tente novamente :(\n"
          ]
        }
      ]
    },
    {
      "cell_type": "markdown",
      "source": [
        "Aula 13 – Estrutura de repetição for"
      ],
      "metadata": {
        "id": "0NsmlspPP2P2"
      }
    },
    {
      "cell_type": "markdown",
      "source": [
        "46 - Faça um programa que mostre na tela uma contagem regressiva para o estouro de fogos de artifício, indo de 10 até 0, com uma pausa de 1 segundo entre eles."
      ],
      "metadata": {
        "id": "AlMCkG4eP60-"
      }
    },
    {
      "cell_type": "code",
      "source": [
        "from time import sleep\n",
        "print(\"Contagem regressiva!!!\")\n",
        "print(\"+-\"*20)\n",
        "for i in range(10, -1, -1):\n",
        "    sleep(1)\n",
        "    print(i)\n",
        "print(\"Fogoooooo!!!\")    "
      ],
      "metadata": {
        "id": "dSBvA2d8P8gk",
        "colab": {
          "base_uri": "https://localhost:8080/"
        },
        "outputId": "f7df8578-0ea1-42fc-8f6c-433d1c40151d"
      },
      "execution_count": null,
      "outputs": [
        {
          "output_type": "stream",
          "name": "stdout",
          "text": [
            "Contagem regressiva!!!\n",
            "+-+-+-+-+-+-+-+-+-+-+-+-+-+-+-+-+-+-+-+-\n",
            "10\n",
            "9\n",
            "8\n",
            "7\n",
            "6\n",
            "5\n",
            "4\n",
            "3\n",
            "2\n",
            "1\n",
            "0\n",
            "Fogoooooo!!!\n"
          ]
        }
      ]
    },
    {
      "cell_type": "markdown",
      "source": [
        "47 - Crie um programa que mostre na tela todos os números pares que estão no intervalo entre 1 e 50."
      ],
      "metadata": {
        "id": "rZ0mzCy0P8xb"
      }
    },
    {
      "cell_type": "code",
      "source": [
        "for i in range(1,51):\n",
        "  if i % 2 == 0:\n",
        "    print(i,\" \", end=\"\")"
      ],
      "metadata": {
        "id": "soO54KuRP9g2",
        "colab": {
          "base_uri": "https://localhost:8080/"
        },
        "outputId": "648b8c7c-7327-4508-e4c3-2797b59659af"
      },
      "execution_count": null,
      "outputs": [
        {
          "output_type": "stream",
          "name": "stdout",
          "text": [
            "2  4  6  8  10  12  14  16  18  20  22  24  26  28  30  32  34  36  38  40  42  44  46  48  50  "
          ]
        }
      ]
    },
    {
      "cell_type": "code",
      "source": [
        "# Mesa solução do exercicio anterior.\n",
        "\n",
        "for i in range(2,51,2):\n",
        "  print(i, \" \", end=\"\" )"
      ],
      "metadata": {
        "colab": {
          "base_uri": "https://localhost:8080/"
        },
        "id": "STSOi-MQNKZO",
        "outputId": "b11e7eda-dc22-4533-f6c6-ca28ef3da4cb"
      },
      "execution_count": null,
      "outputs": [
        {
          "output_type": "stream",
          "name": "stdout",
          "text": [
            "2  4  6  8  10  12  14  16  18  20  22  24  26  28  30  32  34  36  38  40  42  44  46  48  50  "
          ]
        }
      ]
    },
    {
      "cell_type": "markdown",
      "source": [
        "\n",
        "48 - Faça um programa que calcule a soma entre todos os números que são múltiplos de três e que se encontram no intervalo de 1 até 500.\n",
        "\n"
      ],
      "metadata": {
        "id": "wp5tbW3RP90g"
      }
    },
    {
      "cell_type": "code",
      "source": [
        "soma = 0\n",
        "count = 0\n",
        "for i in range(1,501,2):\n",
        "  if i % 3 == 0:    \n",
        "    soma = soma + i\n",
        "    count += 1 # += tem o mesmo efeito do count = count + 1\n",
        "print(\"A soma de todos os número múltiplos de 3 no intervalo de 1 até 500 é {}, e a quantidade dos múltiplos de 3 é de {}\".format(soma, count))\n",
        " "
      ],
      "metadata": {
        "id": "ZbbA8MrVP-3m",
        "colab": {
          "base_uri": "https://localhost:8080/"
        },
        "outputId": "2d0544c6-0277-423c-e1d3-018a2ca73490"
      },
      "execution_count": null,
      "outputs": [
        {
          "output_type": "stream",
          "name": "stdout",
          "text": [
            "A soma de todos os número múltiplos de 3 no intervalo de 1 até 500 é 20667, e a quantidade dos múltiplos de 3 é de 83\n"
          ]
        }
      ]
    },
    {
      "cell_type": "markdown",
      "source": [
        "49 - Refaça o DESAFIO 9, mostrando a tabuada de um número que o usuário escolher, só que agora utilizando um laço for."
      ],
      "metadata": {
        "id": "7h5zfpyNP_ae"
      }
    },
    {
      "cell_type": "code",
      "source": [
        "num = int(input(\"Escolha a tabuada: \"))\n",
        "print(\"-\"*20)\n",
        "for i in range(1,11):\n",
        "  print(\"{} x {} = {}\".format(i,num,num*i))\n",
        "print(\"-\"*20)"
      ],
      "metadata": {
        "id": "oFtgj6cTQAtu",
        "colab": {
          "base_uri": "https://localhost:8080/"
        },
        "outputId": "4551d487-7113-44bf-c1ed-7f62e0a55c15"
      },
      "execution_count": null,
      "outputs": [
        {
          "output_type": "stream",
          "name": "stdout",
          "text": [
            "Escolha a tabuada: 7\n",
            "--------------------\n",
            "1 x 7 = 7\n",
            "2 x 7 = 14\n",
            "3 x 7 = 21\n",
            "4 x 7 = 28\n",
            "5 x 7 = 35\n",
            "6 x 7 = 42\n",
            "7 x 7 = 49\n",
            "8 x 7 = 56\n",
            "9 x 7 = 63\n",
            "10 x 7 = 70\n",
            "--------------------\n"
          ]
        }
      ]
    },
    {
      "cell_type": "markdown",
      "source": [
        "50 - Desenvolva um programa que leia seis números inteiros e mostre a soma apenas daqueles que forem pares. Se o valor digitado for ímpar, desconsidere-o."
      ],
      "metadata": {
        "id": "IgHrhagtQA_E"
      }
    },
    {
      "cell_type": "code",
      "source": [
        "soma = 0\n",
        "count = 0\n",
        "for i in range(1,7):\n",
        "  num = int(input(\"Digite o {} número: \".format(i)))\n",
        "  if num % 2 == 0:\n",
        "    soma += num\n",
        "    count += 1\n",
        "print(\"Você informou {} númeos pares, e a soma deles é {}\".format(count,soma))"
      ],
      "metadata": {
        "id": "E5dSdDYsQB73",
        "colab": {
          "base_uri": "https://localhost:8080/"
        },
        "outputId": "95c8a06b-8494-4932-88ea-ff49e14215f7"
      },
      "execution_count": null,
      "outputs": [
        {
          "output_type": "stream",
          "name": "stdout",
          "text": [
            "Digite o 1 número: 1\n",
            "Digite o 2 número: 2\n",
            "Digite o 3 número: 4\n",
            "Digite o 4 número: 8\n",
            "Digite o 5 número: 9\n",
            "Digite o 6 número: 7\n",
            "Você informou 3 númeos pares, e a soma deles é 14\n"
          ]
        }
      ]
    },
    {
      "cell_type": "markdown",
      "source": [
        "51 - Desenvolva um programa que leia o primeiro termo e a razão de uma PA. No final, mostre os 10 primeiros termos dessa progressão."
      ],
      "metadata": {
        "id": "Gw4X984VQCW4"
      }
    },
    {
      "cell_type": "code",
      "source": [
        "count = 0\n",
        "termo = int(input(\"Digite o primeiro termo: \"))\n",
        "razao = int(input(\"Digite a razão: \"))\n",
        "for c in range(termo,100,razao):\n",
        "  count += 1\n",
        "  if count == 11:\n",
        "    break;\n",
        "  print(c)\n",
        "\n",
        "  "
      ],
      "metadata": {
        "id": "x8pVp3fkQDBK",
        "colab": {
          "base_uri": "https://localhost:8080/"
        },
        "outputId": "54d4fd03-031f-4728-9e65-3a6163a92236"
      },
      "execution_count": null,
      "outputs": [
        {
          "output_type": "stream",
          "name": "stdout",
          "text": [
            "Digite o primeiro termo: 25\n",
            "Digite a razão: 5\n",
            "25\n",
            "30\n",
            "35\n",
            "40\n",
            "45\n",
            "50\n",
            "55\n",
            "60\n",
            "65\n",
            "70\n"
          ]
        }
      ]
    },
    {
      "cell_type": "markdown",
      "source": [
        "52 - Faça um programa que leia um número inteiro e diga se ele é ou não um número primo."
      ],
      "metadata": {
        "id": "I_ND-TSVQD4e"
      }
    },
    {
      "cell_type": "code",
      "source": [
        "num = int(input(\"Digite o número: \"))\n",
        "count = 0\n",
        "\n",
        "for c in range(1,num+1):\n",
        "  if num % c == 0:\n",
        "    count += 1\n",
        "if count == 2:\n",
        "  print(\"O número {} é divisivel {} vezes e por isso ele é Primo!\".format(num, count))\n",
        "else:\n",
        "  print(\"O número {} é divisivel {} vezes e por isso NÃO é Primo!\".format(num, count))"
      ],
      "metadata": {
        "id": "LXY3QequQEsE",
        "colab": {
          "base_uri": "https://localhost:8080/"
        },
        "outputId": "dea75fd1-81dc-4d38-82fc-4bf14b078f5f"
      },
      "execution_count": null,
      "outputs": [
        {
          "output_type": "stream",
          "name": "stdout",
          "text": [
            "Digite o número: 12\n",
            "O número 12 é divisivel 6 vezes e por isso NÃO é Primo!\n"
          ]
        }
      ]
    },
    {
      "cell_type": "markdown",
      "source": [
        "53 - Crie um programa que leia uma frase qualquer e diga se ela é um palíndromo, desconsiderando os espaços. Exemplos de palíndromos:\n",
        "\n",
        "APOS A SOPA, A SACADA DA CASA, A TORRE DA DERROTA, O LOBO AMA O BOLO, ANOTARAM A DATA DA MARATONA."
      ],
      "metadata": {
        "id": "xvJhSBUWQE56"
      }
    },
    {
      "cell_type": "code",
      "source": [
        "frase = str(input(\"Digite aqui a frase: \")).strip().upper()\n",
        "palavras = frase.split()\n",
        "junto = \"\".join(palavras)\n",
        "inverso = \"\"\n",
        "for c in range(len(junto) -1, -1, -1):\n",
        "  inverso += junto[c]\n",
        "print(\"O inverso de {} é {}\".format(junto, inverso))\n",
        "if inverso == junto:\n",
        "  print(\"Temos um palindromo!\")\n",
        "else:\n",
        "  print(\"A frase não é um palindromo!\")"
      ],
      "metadata": {
        "id": "9bCwSnnfQFy2",
        "colab": {
          "base_uri": "https://localhost:8080/"
        },
        "outputId": "d6fb946e-28c6-42b5-bb48-d7338b9dd851"
      },
      "execution_count": null,
      "outputs": [
        {
          "output_type": "stream",
          "name": "stdout",
          "text": [
            "Digite aqui a frase: a torre da derrota\n",
            "O inverso de ATORREDADERROTA é ATORREDADERROTA\n",
            "Temos um palindromo!\n"
          ]
        }
      ]
    },
    {
      "cell_type": "markdown",
      "source": [
        "54 - Crie um programa que leia o ano de nascimento de sete pessoas. No final, mostre quantas pessoas ainda não atingiram a maioridade e quantas já são maiores."
      ],
      "metadata": {
        "id": "1I5VI8bnQI4e"
      }
    },
    {
      "cell_type": "code",
      "source": [
        "from datetime import date\n",
        "c_maior = 0\n",
        "c_menor = 0\n",
        "\n",
        "for i in range(1,8):\n",
        "  ano = int(input(\"Digite o ano de nascimento: \"))  \n",
        "  if date.today().year - ano >= 21:\n",
        "    c_maior += 1\n",
        "  else:\n",
        "    c_menor += 1\n",
        "print(\"-\"*20)\n",
        "print(\"Das 7 idades {} já atingiram a maioridade, e {} ainda não atingiram\".format(c_maior, c_menor))\n",
        "print(\"-\"*20)\n"
      ],
      "metadata": {
        "colab": {
          "base_uri": "https://localhost:8080/"
        },
        "id": "YXYOoqoHJkPO",
        "outputId": "cd5cadff-ec30-4c24-aa95-fea45773294b"
      },
      "execution_count": null,
      "outputs": [
        {
          "output_type": "stream",
          "name": "stdout",
          "text": [
            "Digite o ano de nascimento: 1980\n",
            "Digite o ano de nascimento: 1996\n",
            "Digite o ano de nascimento: 1975\n",
            "Digite o ano de nascimento: 2018\n",
            "Digite o ano de nascimento: 2013\n",
            "Digite o ano de nascimento: 2020\n",
            "Digite o ano de nascimento: 1998\n",
            "--------------------\n",
            "Das 7 idades 4 já atingiram a maioridade, e 3 ainda não atingiram\n",
            "--------------------\n"
          ]
        }
      ]
    },
    {
      "cell_type": "markdown",
      "source": [
        "55 - Faça um programa que leia o peso de cinco pessoas. No final, mostre qual foi o maior e o menor peso lidos."
      ],
      "metadata": {
        "id": "wBu72ToAQLZO"
      }
    },
    {
      "cell_type": "code",
      "source": [
        "p_maior = 0\n",
        "p_menor = 0\n",
        "for i in range(1,6):\n",
        "  peso = float(input(\"Digite o {} peso: \".format(i)))\n",
        "  if i == 1:\n",
        "    p_maior = peso\n",
        "    p_menor = peso\n",
        "  else:\n",
        "    if peso > p_maior:\n",
        "      p_maior = peso\n",
        "    if peso < p_menor:\n",
        "      p_menor = peso\n",
        "\n",
        "print(\"O peso máximo é {} e o mínimo é {}.\".format(p_maior, p_menor))\n"
      ],
      "metadata": {
        "id": "I1thZtY1QMLZ",
        "colab": {
          "base_uri": "https://localhost:8080/"
        },
        "outputId": "343e8e88-0d7b-47f6-d5a4-0ab538c7c31d"
      },
      "execution_count": null,
      "outputs": [
        {
          "output_type": "stream",
          "name": "stdout",
          "text": [
            "Digite o 1 peso: 75\n",
            "Digite o 2 peso: 50\n",
            "Digite o 3 peso: 80\n",
            "Digite o 4 peso: 90\n",
            "Digite o 5 peso: 110.5\n",
            "O peso máximo é 110.5 e o mínimo é 50.0.\n"
          ]
        }
      ]
    },
    {
      "cell_type": "markdown",
      "source": [
        "56 - Desenvolva um programa que leia o nome, idade e sexo de 4 pessoas. No final do programa, mostre: a média de idade do grupo, qual é o nome do homem mais velho e quantas mulheres têm menos de 20 anos.\n",
        "\n"
      ],
      "metadata": {
        "id": "Ci3JlTpjQMck"
      }
    },
    {
      "cell_type": "code",
      "source": [
        "idade_m = 0\n",
        "h_velho = 0\n",
        "h_vel = \"\"\n",
        "m_nova = 0\n",
        "\n",
        "for i in range(1,5):\n",
        "  nome = str(input(\"Digite o seu nome: \"))\n",
        "  idade = int(input(\"Digite sua idade: \"))\n",
        "  sexo = str(input(\"Digite seu genero: \")).strip()\n",
        "  \n",
        "  if idade > 0:\n",
        "    idade_m += idade\n",
        "\n",
        "  if i == 1 and sexo == \"Masculino\":\n",
        "      h_velho = idade\n",
        "      h_vel = nome\n",
        "  if sexo == \"Masculino\" and idade > h_velho:\n",
        "    h_velho = idade\n",
        "    h_vel = nome\n",
        "  \n",
        "  if sexo == \"Feminino\" and idade < 20:\n",
        "    m_nova += 1\n",
        "\n",
        "\n",
        "print(\"-\"*20)\n",
        "print(\"A idade média do grupo é de {:.0f} anos\".format(idade_m/4))\n",
        "print(\"O homem mais velho é {} e ele tem {} anos\".format(h_vel, h_velho))\n",
        "print(\"Tem {} mulheres com menos de 20 anos\".format(m_nova))\n",
        "print(\"-\"*20)\n"
      ],
      "metadata": {
        "colab": {
          "base_uri": "https://localhost:8080/"
        },
        "id": "08AsGo0CTxAJ",
        "outputId": "abd7ccb9-33ad-4021-b1f6-8cadaf6d7aaa"
      },
      "execution_count": null,
      "outputs": [
        {
          "output_type": "stream",
          "name": "stdout",
          "text": [
            "Digite o seu nome: João\n",
            "Digite sua idade: 30\n",
            "Digite seu genero: Masculino\n",
            "Digite o seu nome: José\n",
            "Digite sua idade: 45\n",
            "Digite seu genero: Masculino\n",
            "Digite o seu nome: Maria\n",
            "Digite sua idade: 18\n",
            "Digite seu genero: Feminino\n",
            "Digite o seu nome: Marta\n",
            "Digite sua idade: 22\n",
            "Digite seu genero: Feminino\n",
            "--------------------\n",
            "A idade média do grupo é de 29 anos\n",
            "O homem mais velho é José e ele tem 45 anos\n",
            "Tem 1 mulheres com menos de 20 anos\n",
            "--------------------\n"
          ]
        }
      ]
    },
    {
      "cell_type": "markdown",
      "source": [
        "Aula 14 - Estrutura de repetição While"
      ],
      "metadata": {
        "id": "1JLOXoPSksQG"
      }
    },
    {
      "cell_type": "markdown",
      "source": [
        "57 - Faça um programa que leia o sexo de uma pessoa, mas só aceite os valores ‘M’ ou ‘F’. Caso esteja errado, peça a digitação novamente até ter um valor correto."
      ],
      "metadata": {
        "id": "SA1cgKUjvTKe"
      }
    },
    {
      "cell_type": "code",
      "source": [
        "sexo = \"M\" or \"F\"\n",
        "while sexo == \"M\" or sexo == \"F\":\n",
        "  sexo = (str(input(\"Digite o sexo [M/F]: \"))).strip().upper()[0]\n",
        "if sexo != \"M\" or sexo != \"F\":\n",
        "  print(\"Resposta incorreta, digite novamente M para Masculino ou F para Feminino\")\n"
      ],
      "metadata": {
        "colab": {
          "base_uri": "https://localhost:8080/"
        },
        "id": "HHH9UyrFvWXk",
        "outputId": "bd854b6a-9b6e-4e2c-a1f7-5dd76e657bff"
      },
      "execution_count": null,
      "outputs": [
        {
          "output_type": "stream",
          "name": "stdout",
          "text": [
            "Digite o sexo [M/F]: masculino\n",
            "Digite o sexo [M/F]: feminino\n",
            "Digite o sexo [M/F]: Masculino\n",
            "Digite o sexo [M/F]: M\n",
            "Digite o sexo [M/F]: a\n",
            "Resposta incorreta, digite novamente M para Masculino ou F para Feminino\n"
          ]
        }
      ]
    },
    {
      "cell_type": "markdown",
      "source": [
        "58 - Melhore o jogo do DESAFIO 28 onde o computador vai “pensar” em um número entre 0 e 10. Só que agora o jogador vai tentar adivinhar até acertar, mostrando no final quantos palpites foram necessários para vencer."
      ],
      "metadata": {
        "id": "uxB1PsuR6BQ_"
      }
    },
    {
      "cell_type": "code",
      "source": [
        "import random\n",
        "from time import sleep\n",
        "count = 0\n",
        "print(\"-*\"*20)\n",
        "num_comp = random.choice([1,2,3,4,5,6,7,8,9,10])\n",
        "while num != num_comp:\n",
        "  num = int(input(\"Pense em um número de 0 a 10: \"))\n",
        "  count += 1\n",
        "  if num_comp == num:\n",
        "    print(\"*-\"*20)\n",
        "    print(\"Parabéns, você acertou!!!\")\n",
        "print(\"Você precisou de {} tentativa(s) para conseguir acertar!!!\".format(count))\n",
        "print(\"*-\"*20)\n"
      ],
      "metadata": {
        "colab": {
          "base_uri": "https://localhost:8080/"
        },
        "id": "_X4ZTVQ66DI2",
        "outputId": "6fc054cd-321e-427f-8816-d21b53ae1726"
      },
      "execution_count": null,
      "outputs": [
        {
          "output_type": "stream",
          "name": "stdout",
          "text": [
            "-*-*-*-*-*-*-*-*-*-*-*-*-*-*-*-*-*-*-*-*\n",
            "Pense em um número de 0 a 10: 7\n",
            "Pense em um número de 0 a 10: 5\n",
            "Pense em um número de 0 a 10: 6\n",
            "Pense em um número de 0 a 10: 4\n",
            "Pense em um número de 0 a 10: 1\n",
            "Pense em um número de 0 a 10: 2\n",
            "Pense em um número de 0 a 10: 3\n",
            "Pense em um número de 0 a 10: 8\n",
            "Pense em um número de 0 a 10: 9\n",
            "Pense em um número de 0 a 10: 10\n",
            "*-*-*-*-*-*-*-*-*-*-*-*-*-*-*-*-*-*-*-*-\n",
            "Parabéns, você acertou!!!\n",
            "Você precisou de 10 tentativa(s) para conseguir acertar!!!\n",
            "*-*-*-*-*-*-*-*-*-*-*-*-*-*-*-*-*-*-*-*-\n"
          ]
        }
      ]
    },
    {
      "cell_type": "markdown",
      "source": [
        "59 - Crie um programa que leia dois valores e mostre um menu na tela:\n",
        "\n",
        "[ 1 ] somar\n",
        "\n",
        "[ 2 ] multiplicar\n",
        "\n",
        "[ 3 ] maior\n",
        "\n",
        "[ 4 ] novos números\n",
        "\n",
        "[ 5 ] sair do programa\n",
        "\n",
        "Seu programa deverá realizar a operação solicitada em cada caso.\n",
        "\n"
      ],
      "metadata": {
        "id": "j73WgK8XwVMA"
      }
    },
    {
      "cell_type": "code",
      "source": [
        "val1 = float(input(\"Digite o primeiro valor: \"))\n",
        "val2 = float(input(\"Digite o segundo valor: \"))\n",
        "escolha = 0\n",
        "while escolha != 5:\n",
        "  print(\"*-\"*30)\n",
        "  print(\"Selecione as opções do menu abaixo: \\n [1] - Somar \\n [2] - Multiplicar \\n [3] - maior \\n [4] - Novos números \\n [5] - Sair do programa\")\n",
        "  escolha = int(input(\"Digite a opção desejada: \"))\n",
        "  if escolha == 0 or escolha > 5:\n",
        "    print(\"Opção errada, escolha UMA opção entre 1 e 5!!!!!\")\n",
        "  if escolha == 1:\n",
        "    print(\"A opção escolhida foi [1] Somar, e o resultado é {:.2f}\".format(val1 + val2))\n",
        "  elif escolha == 2:\n",
        "    print(\"A opção escolhida foi [2] Multiplicar, e o resultado é {:.2f}\".format(val1*val2))\n",
        "  elif escolha == 3:\n",
        "      if val1 > val2:\n",
        "        print(\"O valor maior é {:.2f}\".format(val1))\n",
        "      else:\n",
        "        print(\"O valor maior é {:.2f}\".format(val2))\n",
        "  elif escolha == 4:\n",
        "    val1 = float(input(\"Digite o primeiro valor: \"))\n",
        "    val2 = float(input(\"Digite o segundo valor: \"))\n",
        "  elif escolha == 5:\n",
        "    print(\"Fim do programa!\")\n"
      ],
      "metadata": {
        "colab": {
          "base_uri": "https://localhost:8080/"
        },
        "id": "I2uY3gR6wWZx",
        "outputId": "7c5777e9-d810-4c0c-998a-7a2932552427"
      },
      "execution_count": null,
      "outputs": [
        {
          "output_type": "stream",
          "name": "stdout",
          "text": [
            "Digite o primeiro valor: 10\n",
            "Digite o segundo valor: 15\n",
            "*-*-*-*-*-*-*-*-*-*-*-*-*-*-*-*-*-*-*-*-*-*-*-*-*-*-*-*-*-*-\n",
            "Selecione as opções do menu abaixo: \n",
            " [1] - Somar \n",
            " [2] - Multiplicar \n",
            " [3] - maior \n",
            " [4] - Novos números \n",
            " [5] - Sair do programa\n",
            "Digite a opção desejada: 8\n",
            "Opção errada, escolha UMA opção entre 1 e 5!!!!!\n",
            "*-*-*-*-*-*-*-*-*-*-*-*-*-*-*-*-*-*-*-*-*-*-*-*-*-*-*-*-*-*-\n",
            "Selecione as opções do menu abaixo: \n",
            " [1] - Somar \n",
            " [2] - Multiplicar \n",
            " [3] - maior \n",
            " [4] - Novos números \n",
            " [5] - Sair do programa\n",
            "Digite a opção desejada: 10\n",
            "Opção errada, escolha UMA opção entre 1 e 5!!!!!\n",
            "*-*-*-*-*-*-*-*-*-*-*-*-*-*-*-*-*-*-*-*-*-*-*-*-*-*-*-*-*-*-\n",
            "Selecione as opções do menu abaixo: \n",
            " [1] - Somar \n",
            " [2] - Multiplicar \n",
            " [3] - maior \n",
            " [4] - Novos números \n",
            " [5] - Sair do programa\n",
            "Digite a opção desejada: 1\n",
            "A opção escolhida foi [1] Somar, e o resultado é 25.00\n",
            "*-*-*-*-*-*-*-*-*-*-*-*-*-*-*-*-*-*-*-*-*-*-*-*-*-*-*-*-*-*-\n",
            "Selecione as opções do menu abaixo: \n",
            " [1] - Somar \n",
            " [2] - Multiplicar \n",
            " [3] - maior \n",
            " [4] - Novos números \n",
            " [5] - Sair do programa\n",
            "Digite a opção desejada: 10\n",
            "Opção errada, escolha UMA opção entre 1 e 5!!!!!\n",
            "*-*-*-*-*-*-*-*-*-*-*-*-*-*-*-*-*-*-*-*-*-*-*-*-*-*-*-*-*-*-\n",
            "Selecione as opções do menu abaixo: \n",
            " [1] - Somar \n",
            " [2] - Multiplicar \n",
            " [3] - maior \n",
            " [4] - Novos números \n",
            " [5] - Sair do programa\n",
            "Digite a opção desejada: 15\n",
            "Opção errada, escolha UMA opção entre 1 e 5!!!!!\n",
            "*-*-*-*-*-*-*-*-*-*-*-*-*-*-*-*-*-*-*-*-*-*-*-*-*-*-*-*-*-*-\n",
            "Selecione as opções do menu abaixo: \n",
            " [1] - Somar \n",
            " [2] - Multiplicar \n",
            " [3] - maior \n",
            " [4] - Novos números \n",
            " [5] - Sair do programa\n",
            "Digite a opção desejada: 5\n",
            "Fim do programa!\n"
          ]
        }
      ]
    },
    {
      "cell_type": "markdown",
      "source": [
        "60 - Faça um programa que leia um número qualquer e mostre o seu fatorial. Exemplo:\n",
        "\n",
        "5! = 5 x 4 x 3 x 2 x 1 = 120"
      ],
      "metadata": {
        "id": "1MnXLb2C88_X"
      }
    },
    {
      "cell_type": "code",
      "source": [
        "num = float(input(\"Digite um número para saber seu fatorial: \"))\n",
        "count = 0\n",
        "soma = 0\n",
        "while count <= num:\n",
        "  conta = (num - 1) * num\n",
        "  count = count + 1\n",
        "  soma = soma + conta\n",
        "print(\"O fatorial de {:.2f} é {}\".format(num, soma))\n",
        "\n",
        "\n"
      ],
      "metadata": {
        "colab": {
          "base_uri": "https://localhost:8080/"
        },
        "id": "QzYcs4PB9A3T",
        "outputId": "d39d61d1-654e-4533-eb6a-5239911fe016"
      },
      "execution_count": null,
      "outputs": [
        {
          "output_type": "stream",
          "name": "stdout",
          "text": [
            "Digite um número para saber seu fatorial: 5\n",
            "O fatorial de 5.00 é 120.0\n"
          ]
        }
      ]
    },
    {
      "cell_type": "code",
      "source": [
        "num = int(input(\"Digite um número para saber o fatorial: \"))\n",
        "count = num\n",
        "f = 1\n",
        "print(\"Calculando {}! = \".format(num),end=\"\")\n",
        "while count > 0:\n",
        "  print(\"{}\".format(count), end=\"\")\n",
        "  print(\"x\" if count > 1 else \"=\", end=\"\" )\n",
        "  f *= count\n",
        "  count -= 1\n",
        "print(\"{}\".format(f))"
      ],
      "metadata": {
        "colab": {
          "base_uri": "https://localhost:8080/"
        },
        "id": "5t6uyTBjDC3-",
        "outputId": "ba95e85b-ce06-4a70-faed-ca55acaa2610"
      },
      "execution_count": null,
      "outputs": [
        {
          "output_type": "stream",
          "name": "stdout",
          "text": [
            "Digite um número para saber o fatorial: 5\n",
            "Calculando 5! = 5x4x3x2x1=120\n"
          ]
        }
      ]
    },
    {
      "cell_type": "markdown",
      "source": [
        "61 - Refaça o DESAFIO 51, lendo o primeiro termo e a razão de uma PA, mostrando os 10 primeiros termos da progressão usando a estrutura while.\n",
        "\n"
      ],
      "metadata": {
        "id": "f9f5wqV6G846"
      }
    },
    {
      "cell_type": "code",
      "source": [
        "termo = int(input(\"Digite o primeiro termo: \"))\n",
        "razao = int(input(\"Digite a razão: \"))\n",
        "c = 0\n",
        "pa = 0\n",
        "print(termo)\n",
        "while c <= 10:\n",
        "  c += 1\n",
        "  pa += razao\n",
        "  if c == 10:\n",
        "    break;  \n",
        "  print(termo + pa)"
      ],
      "metadata": {
        "id": "0hsKXjZOG-01",
        "colab": {
          "base_uri": "https://localhost:8080/"
        },
        "outputId": "d3fd3d91-30b0-41a1-a1f6-b52c0a3f687a"
      },
      "execution_count": null,
      "outputs": [
        {
          "output_type": "stream",
          "name": "stdout",
          "text": [
            "Digite o primeiro termo: 5\n",
            "Digite a razão: 7\n",
            "5\n",
            "12\n",
            "19\n",
            "26\n",
            "33\n",
            "40\n",
            "47\n",
            "54\n",
            "61\n",
            "68\n"
          ]
        }
      ]
    },
    {
      "cell_type": "code",
      "source": [
        "primeiro = int(input(\"Digite o primeiro número: \"))\n",
        "razao = int(input(\"Digite a razão: \"))\n",
        "termo = primeiro\n",
        "c = 1\n",
        "while c <= 10:\n",
        "  print(\"{}-> \".format(termo), end=\"\")\n",
        "  termo += razao\n",
        "  c += 1\n",
        "print(\"O programa acabou!\")"
      ],
      "metadata": {
        "colab": {
          "base_uri": "https://localhost:8080/"
        },
        "id": "g1YsgvBkjpLO",
        "outputId": "ddef0be2-6333-4353-ad71-536e8b9b8fa8"
      },
      "execution_count": null,
      "outputs": [
        {
          "output_type": "stream",
          "name": "stdout",
          "text": [
            "Digite o primeiro número: 0\n",
            "Digite a razão: 5\n",
            "0-> 5-> 10-> 15-> 20-> 25-> 30-> 35-> 40-> 45-> O programa acabou!\n"
          ]
        }
      ]
    },
    {
      "cell_type": "markdown",
      "source": [
        "62 - Melhore o DESAFIO 61, perguntando para o usuário se ele quer mostrar mais alguns termos. O programa encerrará quando ele disser que quer mostrar 0 termos."
      ],
      "metadata": {
        "id": "WHIHI1BklKwm"
      }
    },
    {
      "cell_type": "code",
      "source": [
        "primeiro = int(input(\"Digite o primeiro número: \"))\n",
        "razao = int(input(\"Digite a razão: \"))\n",
        "termo = primeiro\n",
        "c = 1\n",
        "while c <= 10:\n",
        "  print(\"{}-> \".format(termo), end=\"\")\n",
        "  termo += razao\n",
        "  c += 1\n",
        "print(\"PAUSA\")\n",
        "print(\"Quantos termos a mais você quer que mostre na tela? \")\n",
        "termo2 = int(input(\"Digite a razão: \"))\n",
        "while termo2 !=0:\n",
        "  c2 = 0\n",
        "  if termo2 != 0:\n",
        "    while c2 <= termo2-1:\n",
        "      print(\"{}-> \".format(termo), end=\"\")\n",
        "      termo += razao\n",
        "      c2 += 1\n",
        "    print(\"PAUSA\")\n",
        "    print(\"Quantos termos a mais você quer que mostre na tela? \")\n",
        "    termo2 = int(input(\"Digite a razão: \"))\n",
        "  if termo2 == 0:\n",
        "    print(\"O programa acabou!\")"
      ],
      "metadata": {
        "colab": {
          "base_uri": "https://localhost:8080/"
        },
        "id": "w9B3FRFKlOlF",
        "outputId": "b1cadf43-e7ef-4a54-8766-2573d3842a11"
      },
      "execution_count": null,
      "outputs": [
        {
          "output_type": "stream",
          "name": "stdout",
          "text": [
            "Digite o primeiro número: 0\n",
            "Digite a razão: 5\n",
            "0-> 5-> 10-> 15-> 20-> 25-> 30-> 35-> 40-> 45-> PAUSA\n",
            "Quantos termos a mais você quer que mostre na tela? \n",
            "Digite a razão: 8\n",
            "50-> 55-> 60-> 65-> 70-> 75-> 80-> 85-> PAUSA\n",
            "Quantos termos a mais você quer que mostre na tela? \n",
            "Digite a razão: 6\n",
            "90-> 95-> 100-> 105-> 110-> 115-> PAUSA\n",
            "Quantos termos a mais você quer que mostre na tela? \n",
            "Digite a razão: 0\n",
            "O programa acabou e foi mostrado 17 termos\n"
          ]
        }
      ]
    },
    {
      "cell_type": "code",
      "source": [
        "primeiro = int(input(\"Digite o primeiro número: \"))\n",
        "razao = int(input(\"Digite a razão: \"))\n",
        "termo = primeiro\n",
        "c = 1\n",
        "total = 0\n",
        "mais = 10\n",
        "while mais !=0:\n",
        "  total = total + mais\n",
        "  while c <= total:\n",
        "    print(\"{}-> \".format(termo), end=\"\")\n",
        "    termo += razao\n",
        "    c += 1\n",
        "  print(\"PAUSA\")\n",
        "  mais = int(input(\"Quantos termos a mais você quer que mostre na tela? \"))\n",
        "print(\"O programa acabou, e foram selecionados {} termos. \".format(total))"
      ],
      "metadata": {
        "colab": {
          "base_uri": "https://localhost:8080/"
        },
        "id": "0tRsoBIQ3-CJ",
        "outputId": "72bc816f-16b9-4b28-9955-449d64801ed9"
      },
      "execution_count": null,
      "outputs": [
        {
          "output_type": "stream",
          "name": "stdout",
          "text": [
            "Digite o primeiro número: 0\n",
            "Digite a razão: 5\n",
            "0-> 5-> 10-> 15-> 20-> 25-> 30-> 35-> 40-> 45-> PAUSA\n",
            "Quantos termos a mais você quer que mostre na tela? 7\n",
            "50-> 55-> 60-> 65-> 70-> 75-> 80-> PAUSA\n",
            "Quantos termos a mais você quer que mostre na tela? 3\n",
            "85-> 90-> 95-> PAUSA\n",
            "Quantos termos a mais você quer que mostre na tela? 2\n",
            "100-> 105-> PAUSA\n",
            "Quantos termos a mais você quer que mostre na tela? 0\n",
            "O programa acabou, e foram selecionados 22 termos. \n"
          ]
        }
      ]
    },
    {
      "cell_type": "markdown",
      "source": [
        "63 - Escreva um programa que leia um número N inteiro qualquer e mostre na tela os N primeiros elementos de uma Sequência de Fibonacci. Exemplo:\n",
        "\n",
        "0 – 1 – 1 – 2 – 3 – 5 – 8"
      ],
      "metadata": {
        "id": "7qouOHD-6ibl"
      }
    },
    {
      "cell_type": "code",
      "source": [
        "num = int(input(\"Digite o número que você quer saber a sequencia Fibonacci: \"))\n",
        "a1 = 0\n",
        "a2 = 1\n",
        "\n",
        "print(\"{} - {}\".format(a1, a2), end=\"\")\n",
        "c = 3\n",
        "while c <= num:\n",
        "  a3 = a1 + a2\n",
        "  print(\" - {}\".format(a3), end=\" \")\n",
        "  a1 = a2\n",
        "  a2 = a3\n",
        "  c += 1\n",
        "\n",
        "print(\"FIM\")"
      ],
      "metadata": {
        "colab": {
          "base_uri": "https://localhost:8080/"
        },
        "id": "yqaFxEBLayvr",
        "outputId": "29781121-8387-4497-e350-1b2a0635ad45"
      },
      "execution_count": null,
      "outputs": [
        {
          "output_type": "stream",
          "name": "stdout",
          "text": [
            "Digite o número que você quer saber a sequencia Fibonacci: 10\n",
            "0 - 1 - 1  - 2  - 3  - 5  - 8  - 13  - 21  - 34 FIM\n"
          ]
        }
      ]
    },
    {
      "cell_type": "markdown",
      "source": [
        "64 - Crie um programa que leia vários números inteiros pelo teclado. O programa só vai parar quando o usuário digitar o valor 999, que é a condição de parada. No final, mostre quantos números foram digitados e qual foi a soma entre eles (desconsiderando o flag)."
      ],
      "metadata": {
        "id": "9TQ-RD91fYIv"
      }
    },
    {
      "cell_type": "code",
      "source": [
        "num = 0\n",
        "c = -1\n",
        "soma = -999\n",
        "while num != 999:\n",
        "  num = int(input(\"Digite um número: \"))\n",
        "  c += 1\n",
        "  soma += num\n",
        "print(\"O programa acabou, foram digitados {} números, que somados resultam em {}.\".format(c, soma))"
      ],
      "metadata": {
        "colab": {
          "base_uri": "https://localhost:8080/"
        },
        "id": "XM2mhi2RfaL5",
        "outputId": "e90a8a12-f155-46d6-b26d-fb5c91beda5c"
      },
      "execution_count": null,
      "outputs": [
        {
          "output_type": "stream",
          "name": "stdout",
          "text": [
            "Digite um número: 10\n",
            "Digite um número: 20\n",
            "Digite um número: 30\n",
            "Digite um número: 999\n",
            "O programa acabou, foram digitados 3 números, que somados resultam em 60.\n"
          ]
        }
      ]
    },
    {
      "cell_type": "code",
      "source": [
        "#Solução 2 \n",
        "\n",
        "num = c = soma = 0\n",
        "num = int(input(\"Digite um número: \"))\n",
        "while num != 999:  \n",
        "  c += 1\n",
        "  soma += num\n",
        "  num = int(input(\"Digite um número: \"))\n",
        "print(\"O programa acabou, foram digitados {} números, que somados resultam em {}.\".format(c, soma))"
      ],
      "metadata": {
        "colab": {
          "base_uri": "https://localhost:8080/"
        },
        "id": "D4eCgFzRjeZC",
        "outputId": "8cb119af-25a8-48ff-83c9-fed8e8dab6c2"
      },
      "execution_count": null,
      "outputs": [
        {
          "output_type": "stream",
          "name": "stdout",
          "text": [
            "Digite um número: 3\n",
            "Digite um número: 3\n",
            "Digite um número: 3\n",
            "Digite um número: 999\n",
            "O programa acabou, foram digitados 3 números, que somados resultam em 9.\n"
          ]
        }
      ]
    },
    {
      "cell_type": "markdown",
      "source": [
        "65 - Crie um programa que leia vários números inteiros pelo teclado. No final da execução, mostre a média entre todos os valores e qual foi o maior e o menor valores lidos. O programa deve perguntar ao usuário se ele quer ou não continuar a digitar valores."
      ],
      "metadata": {
        "id": "qSk3f7YSj9T6"
      }
    },
    {
      "cell_type": "code",
      "source": [
        "continua = True\n",
        "soma = maior = menor = c = num = 0\n",
        "while continua == True:\n",
        "  num = int(input(\"Digite um valor: \"))\n",
        "  c += 1\n",
        "  soma += num\n",
        "  #verificando o maior e o menor\n",
        "  if c == 1:\n",
        "    maior = num\n",
        "    menor = num\n",
        "  else:\n",
        "    if num > maior:\n",
        "      maior = num\n",
        "    if num < menor:\n",
        "      menor = num\n",
        "      \n",
        "  resp = str(input(\"Você deseja continuar a digitar valores? [S/N]\")).strip().upper()\n",
        "  if resp == \"S\":\n",
        "    continua = True\n",
        "  elif resp == \"N\":\n",
        "    continua = False\n",
        "print(\"-\"*30)\n",
        "print(\"No total foram digitados {} valores, a média foi {:.2f}. o maior foi {} e  o menor foi {}.\".format(c, soma/c, maior, menor))\n",
        "print(\"-\"*30)"
      ],
      "metadata": {
        "colab": {
          "base_uri": "https://localhost:8080/"
        },
        "id": "SNt19ta9kI99",
        "outputId": "7ae66515-b80e-48e8-9ff7-00baf1affa73"
      },
      "execution_count": null,
      "outputs": [
        {
          "output_type": "stream",
          "name": "stdout",
          "text": [
            "Digite um valor: 10\n",
            "Você deseja continuar a digitar valores? [S/N]s\n",
            "Digite um valor: 20\n",
            "Você deseja continuar a digitar valores? [S/N]s\n",
            "Digite um valor: 25\n",
            "Você deseja continuar a digitar valores? [S/N]n\n",
            "------------------------------\n",
            "No total foram digitados 3 valores, a média foi 18.33. o maior foi 25 e  o menor foi 10.\n",
            "------------------------------\n"
          ]
        }
      ]
    },
    {
      "cell_type": "markdown",
      "source": [
        "Aula 15 - Interrompendo repetições While"
      ],
      "metadata": {
        "id": "Hist-lGKqUtI"
      }
    },
    {
      "cell_type": "markdown",
      "source": [
        "66 - Crie um programa que leia números inteiros pelo teclado. O programa só vai parar quando o usuário digitar o valor 999, que é a condição de parada. No final, mostre quantos números foram digitados e qual foi a soma entre elas (desconsiderando o flag).\n",
        "\n"
      ],
      "metadata": {
        "id": "4jWcM8mzrPDZ"
      }
    },
    {
      "cell_type": "code",
      "source": [
        "num = soma = c = 0\n",
        "while True:\n",
        "  num = int(input(\"Digite um valor: 999 sai do programa! \"))\n",
        "  if num == 999:\n",
        "    break\n",
        "  c += 1\n",
        "  soma += num\n",
        "print(f\"Foram digitados {c} números e a soma resultou em {soma}.\")"
      ],
      "metadata": {
        "colab": {
          "base_uri": "https://localhost:8080/"
        },
        "id": "pio0zou_rPxM",
        "outputId": "3f008652-c5b2-45f3-c4c3-5dc12fb71dbb"
      },
      "execution_count": null,
      "outputs": [
        {
          "output_type": "stream",
          "name": "stdout",
          "text": [
            "Digite um valor: 999 sai do programa! 5\n",
            "Digite um valor: 999 sai do programa! 15\n",
            "Digite um valor: 999 sai do programa! 25\n",
            "Digite um valor: 999 sai do programa! 40\n",
            "Digite um valor: 999 sai do programa! 999\n",
            "Foram digitados 4 números e a soma resultou em 85.\n"
          ]
        }
      ]
    },
    {
      "cell_type": "markdown",
      "source": [
        "67 - Faça um programa que mostre a tabuada de vários números, um de cada vez, para cada valor digitado pelo usuário. O programa será interrompido quando o número solicitado for negativo."
      ],
      "metadata": {
        "id": "2PZZqaHOrQWa"
      }
    },
    {
      "cell_type": "code",
      "source": [
        "while True:\n",
        "  num = int(input(\"Qual tabuada você gostaria de saber? \"))\n",
        "  if num < 0:\n",
        "    print(\"-\"*30)\n",
        "    print(\"Programa encerrado! \")\n",
        "    print(\"-\"*30)\n",
        "    break\n",
        "  for i in range(1,11):\n",
        "    print(f\"{num} x {i} = {num*i}\")\n",
        "  "
      ],
      "metadata": {
        "colab": {
          "base_uri": "https://localhost:8080/"
        },
        "id": "NxzUgr0trRPz",
        "outputId": "d5bfce16-22d7-4224-d56a-35dc1ed4e34d"
      },
      "execution_count": null,
      "outputs": [
        {
          "output_type": "stream",
          "name": "stdout",
          "text": [
            "Qual tabuada você gostaria de saber? 5\n",
            "5 x 1 = 5\n",
            "5 x 2 = 10\n",
            "5 x 3 = 15\n",
            "5 x 4 = 20\n",
            "5 x 5 = 25\n",
            "5 x 6 = 30\n",
            "5 x 7 = 35\n",
            "5 x 8 = 40\n",
            "5 x 9 = 45\n",
            "5 x 10 = 50\n",
            "Qual tabuada você gostaria de saber? 10\n",
            "10 x 1 = 10\n",
            "10 x 2 = 20\n",
            "10 x 3 = 30\n",
            "10 x 4 = 40\n",
            "10 x 5 = 50\n",
            "10 x 6 = 60\n",
            "10 x 7 = 70\n",
            "10 x 8 = 80\n",
            "10 x 9 = 90\n",
            "10 x 10 = 100\n",
            "Qual tabuada você gostaria de saber? -1\n",
            "------------------------------\n",
            "Programa encerrado! \n",
            "------------------------------\n"
          ]
        }
      ]
    },
    {
      "cell_type": "markdown",
      "source": [
        "68 - Faça um programa que jogue par ou ímpar com o computador. O jogo só será interrompido quando o jogador perder, mostrando o total de vitórias consecutivas que ele conquistou no final do jogo."
      ],
      "metadata": {
        "id": "E7NnbgAurRdG"
      }
    },
    {
      "cell_type": "code",
      "source": [
        "import random\n",
        "print(\"-\"*30)\n",
        "print(\"Vamos jogar Par ou Impar!!!\")\n",
        "print(\"-\"*30)\n",
        "pi = \" \"\n",
        "v_pc = v_h  = 0\n",
        "while True:\n",
        "  escolha_v = int(input(\"Digite um número: : \"))\n",
        "  escolha_pi = str(input(\"Par ou Impar? \")).strip().upper()\n",
        "  escolha_pc = random.randint(0,50)\n",
        "  if (escolha_v + escolha_pc) % 2 == 0:\n",
        "    pi = \"PAR\"\n",
        "  else:\n",
        "    pi = \"IMPAR\"\n",
        "  if escolha_pi == pi:\n",
        "    v_h += 1\n",
        "    print(\"*\"*30)\n",
        "    print(\"----------Parabéns você ganhou----------!!!!\")\n",
        "    print(f\"Sua escolha foi *{escolha_v}* e *{escolha_pi}* e a escolha do PC foi *{escolha_pc}* que somado deu *{escolha_v + escolha_pc}* resultando *{pi}*\")\n",
        "    print(\"Vamos jogar novamente!\")\n",
        "    print(\"*\"*30)\n",
        "  elif escolha_pi != pi:\n",
        "    v_pc += 1\n",
        "    print(\"*\"*30)\n",
        "    print(f\"Sua escolha foi *{escolha_v}* e *{escolha_pi}* e a escolha do PC foi *{escolha_pc}* que somado deu *{escolha_v + escolha_pc}* resultando *{pi}*\")\n",
        "    print(\"**********Você perdeu :( !!! o jogo foi encerrado!**********\")\n",
        "    print(f\"Foram jogadas {v_h + v_pc} partidas e você ganhou {v_h} vezes e o PC ganhou {v_pc} vezes!\")\n",
        "    print(\"*\"*30)\n",
        "    break\n",
        "    \n"
      ],
      "metadata": {
        "colab": {
          "base_uri": "https://localhost:8080/"
        },
        "id": "r0A17KbomiZS",
        "outputId": "0a1c421c-532d-4b25-e9a8-afbf5bb50ee9"
      },
      "execution_count": null,
      "outputs": [
        {
          "output_type": "stream",
          "name": "stdout",
          "text": [
            "------------------------------\n",
            "Vamos jogar Par ou Impar!!!\n",
            "------------------------------\n",
            "Digite um número: : 15\n",
            "Par ou Impar? impar\n",
            "******************************\n",
            "----------Parabéns você ganhou----------!!!!\n",
            "Sua escolha foi *15* e *IMPAR* e a escolha do PC foi *0* que somado deu *15* resultando *IMPAR*\n",
            "Vamos jogar novamente!\n",
            "******************************\n",
            "Digite um número: : 17\n",
            "Par ou Impar? impar\n",
            "******************************\n",
            "Sua escolha foi *17* e *IMPAR* e a escolha do PC foi *33* que somado deu *50* resultando *PAR*\n",
            "**********Você perdeu :( !!! o jogo foi encerrado!**********\n",
            "Foram jogadas 2 partidas e você ganhou 1 vezes e o PC ganhou 1 vezes!\n",
            "******************************\n"
          ]
        }
      ]
    },
    {
      "cell_type": "markdown",
      "source": [
        "69 - Crie um programa que leia a idade e o sexo de várias pessoas. A cada pessoa cadastrada, o programa deverá perguntar se o usuário quer ou não continuar. No final, mostre:\n",
        "\n",
        "A) quantas pessoas tem mais de 18 anos.\n",
        "\n",
        "B) quantos homens foram cadastrados.\n",
        "\n",
        "C) quantas mulheres tem menos de 20 anos."
      ],
      "metadata": {
        "id": "cbABrwYRrSgc"
      }
    },
    {
      "cell_type": "code",
      "source": [
        "print(\"-\"*20)\n",
        "print(\"***CADASTRO DE PESSOAS***\")\n",
        "print(\"-\"*20)\n",
        "c = maior = homem = mulher_20 = 0 \n",
        "while True:\n",
        "  idade = int(input(\"Digite a idade: \"))\n",
        "  sexo = str(input(\"Digite o gênero: (Masculino / Feminino) \")).strip().upper()\n",
        "  c += 1\n",
        "  cont = str(input(\"Gostaria de continuar cadastrando? [S/N]: \")).strip().upper()  \n",
        "  if idade >= 18:\n",
        "    maior += 1\n",
        "  if sexo == \"MASCULINO\":\n",
        "    homem += 1\n",
        "  if sexo == \"FEMININO\" and idade < 20:\n",
        "    mulher_20 += 1\n",
        "  if cont == \"N\":\n",
        "    print(f\"Ok, o programa foi encerrado com {maior} pessoas com mais de 18 anos, {homem} homens cadastrados e {mulher_20} mulheres com menos de 20 anos\")\n",
        "    break\n"
      ],
      "metadata": {
        "id": "vxsKkUL8rTV2",
        "colab": {
          "base_uri": "https://localhost:8080/"
        },
        "outputId": "385327d3-ad55-458f-97f9-b23a2aec3550"
      },
      "execution_count": null,
      "outputs": [
        {
          "output_type": "stream",
          "name": "stdout",
          "text": [
            "--------------------\n",
            "***CADASTRO DE PESSOAS***\n",
            "--------------------\n",
            "Digite a idade: 22\n",
            "Digite o gênero: (Masculino / Feminino) masculino\n",
            "Gostaria de continuar cadastrando? [S/N]: s\n",
            "Digite a idade: 26\n",
            "Digite o gênero: (Masculino / Feminino) masculino\n",
            "Gostaria de continuar cadastrando? [S/N]: s\n",
            "Digite a idade: 18\n",
            "Digite o gênero: (Masculino / Feminino) feminino\n",
            "Gostaria de continuar cadastrando? [S/N]: s\n",
            "Digite a idade: 22\n",
            "Digite o gênero: (Masculino / Feminino) feminino\n",
            "Gostaria de continuar cadastrando? [S/N]: n\n",
            "Ok, o programa foi encerrado com 4 pessoas com mais de 18 anos, 2 homens cadastrados e 1 mulheres com menos de 20 anos\n"
          ]
        }
      ]
    },
    {
      "cell_type": "markdown",
      "source": [
        "70 - Crie um programa que leia o nome e o preço de vários produtos. O programa deverá perguntar se o usuário vai continuar ou não. No final, mostre:\n",
        "\n",
        "A) qual é o total gasto na compra.\n",
        "\n",
        "B) quantos produtos custam mais de R$1000.\n",
        "\n",
        "C) qual é o nome do produto mais barato."
      ],
      "metadata": {
        "id": "3TjDnRO0rTkJ"
      }
    },
    {
      "cell_type": "code",
      "source": [
        "tot = prod_mil = qtd = menor = 0\n",
        "barato = \"\"\n",
        " \n",
        "while True:\n",
        "  produto = str(input(\"Digite o produto: \"))\n",
        "  preco = float(input(\"Digite o preço: \"))\n",
        "  qtd += 1\n",
        "  tot += preco\n",
        "  if preco >= 1000:\n",
        "    prod_mil += 1\n",
        "  if qtd == 1 or preco < menor:\n",
        "    menor = preco\n",
        "    barato = produto\n",
        "  continua =  str(input(\"Deseja continuar a cadastrar novos produtos? [S/N] \")).strip().upper()\n",
        "  if continua != \"S\" or continua != \"N\":\n",
        "    print(\"Opção inválida, insira (S) para sim e (N) para não!!!\")\n",
        "  if continua == \"N\":\n",
        "    print(\"-\"*30)\n",
        "    print(f\"O programa foi encerrado e o total de gasto na compra foi de R${tot:.2f}, tiveram {prod_mil} produto(s) que custam mais de R$1000,00 e o produto mais barato foi o/a {barato} e custou {menor:.2f}.\")\n",
        "    break\n",
        "\n",
        "  \n",
        "\n"
      ],
      "metadata": {
        "id": "7kA1cLYIrUWa",
        "colab": {
          "base_uri": "https://localhost:8080/"
        },
        "outputId": "df6dcc41-6f8d-49ec-df13-db65a10853c7"
      },
      "execution_count": null,
      "outputs": [
        {
          "output_type": "stream",
          "name": "stdout",
          "text": [
            "Digite o produto: Notebook\n",
            "Digite o preço: 2500\n",
            "Deseja continuar a cadastrar novos produtos? [S/N] S\n",
            "Opção inválida, insira (S) para sim e (N) para não!!!\n",
            "Digite o produto: TV\n",
            "Digite o preço: 1050\n",
            "Deseja continuar a cadastrar novos produtos? [S/N] S\n",
            "Opção inválida, insira (S) para sim e (N) para não!!!\n",
            "Digite o produto: Teclado\n",
            "Digite o preço: 100\n",
            "Deseja continuar a cadastrar novos produtos? [S/N] s\n",
            "Opção inválida, insira (S) para sim e (N) para não!!!\n",
            "Digite o produto: Mouse\n",
            "Digite o preço: 50\n",
            "Deseja continuar a cadastrar novos produtos? [S/N] n\n",
            "Opção inválida, insira (S) para sim e (N) para não!!!\n",
            "------------------------------\n",
            "O programa foi encerrado e o total de gasto na compra foi de R$3700.00, tiveram 2 produto(s) que custam mais de R$1000,00 e o produto mais barato foi o/a Mouse e custou 50.00.\n"
          ]
        }
      ]
    },
    {
      "cell_type": "markdown",
      "source": [
        "71 - Crie um programa que simule o funcionamento de um caixa eletrônico. No início, pergunte ao usuário qual será o valor a ser sacado (número inteiro) e o programa vai informar quantas cédulas de cada valor serão entregues. OBS:\n",
        "\n",
        "considere que o caixa possui cédulas de R$50, R$20, R$10 e R$1."
      ],
      "metadata": {
        "id": "41XLoKDsrXZT"
      }
    },
    {
      "cell_type": "code",
      "source": [
        "print(\"-\"*30)\n",
        "print(\"*******CAIXA ELETRÔNICO*******\")\n",
        "print(\"-\"*30)\n",
        "a = b = c = d =tot = 0\n",
        "while True:\n",
        "  valor = int(input(\"Qual valor você pretende sacar? R$\"))\n",
        "  a = valor // 50\n",
        "  b = valor - (a  * 50) \n",
        "  b = b // 20\n",
        "  c = valor - ((a * 50) + (b * 20))\n",
        "  c = c // 10\n",
        "  d = valor - ((a * 50) + (b * 20) + (c *10))\n",
        "  d = d // 1\n",
        "  if valor != 0:\n",
        "    break\n",
        "print(f\"Total de {a} cédulas de R$50,00\")\n",
        "print(f\"Total de {b} cédulas de R$20,00\")\n",
        "print(f\"Total de {c} cédulas de R$10,00\")\n",
        "print(f\"Total de {d} cédulas de R$1,00\")\n",
        "print(\"-\"*30)\n",
        "print(\"Volte sempre ao caixa eletrônico!\")"
      ],
      "metadata": {
        "id": "2LPwgx0jrYD-",
        "colab": {
          "base_uri": "https://localhost:8080/"
        },
        "outputId": "84102ed9-3e0c-426a-a639-c0cdebf5c07b"
      },
      "execution_count": null,
      "outputs": [
        {
          "output_type": "stream",
          "name": "stdout",
          "text": [
            "------------------------------\n",
            "*******CAIXA ELETRÔNICO*******\n",
            "------------------------------\n",
            "Qual valor você pretende sacar? R$778\n",
            "Total de 15 cédulas de R$50,00\n",
            "Total de 1 cédulas de R$20,00\n",
            "Total de 0 cédulas de R$10,00\n",
            "Total de 8 cédulas de R$1,00\n",
            "------------------------------\n",
            "Volte sempre ao caixa eletrônico!\n"
          ]
        }
      ]
    },
    {
      "cell_type": "code",
      "source": [
        "print(\"-\"*30)\n",
        "print(\"*******CAIXA ELETRÔNICO*******\")\n",
        "print(\"-\"*30)\n",
        "valor = int(input(\"Digite o valor que pretende sacar: \"))\n",
        "total = valor\n",
        "ced = 50\n",
        "totalced = 0\n",
        "while True:\n",
        "  if total >= ced:\n",
        "    total -= ced \n",
        "    totalced += 1\n",
        "  else:\n",
        "    if totalced > 0:\n",
        "      print(f\"Total de {totalced} cédulas de R${ced}\")\n",
        "    if ced == 50:\n",
        "      ced = 20\n",
        "    elif ced == 20:\n",
        "      ced = 10\n",
        "    elif ced == 10:\n",
        "      ced = 1\n",
        "    totalced = 0\n",
        "    if total == 0:\n",
        "      break\n",
        "print(\"-\"*30)\n",
        "print(\"Volte sempre ao caixa eletrônico!\")"
      ],
      "metadata": {
        "colab": {
          "base_uri": "https://localhost:8080/"
        },
        "id": "x5D6NDCBF_IU",
        "outputId": "09143556-3c50-49ba-f8b9-fee1bfb67137"
      },
      "execution_count": null,
      "outputs": [
        {
          "output_type": "stream",
          "name": "stdout",
          "text": [
            "------------------------------\n",
            "*******CAIXA ELETRÔNICO*******\n",
            "------------------------------\n",
            "Digite o valor que pretende sacar: 1234\n",
            "Total de 24 cédulas de R$50\n",
            "Total de 1 cédulas de R$20\n",
            "Total de 1 cédulas de R$10\n",
            "Total de 4 cédulas de R$1\n",
            "------------------------------\n",
            "Volte sempre ao caixa eletrônico!\n"
          ]
        }
      ]
    }
  ]
}